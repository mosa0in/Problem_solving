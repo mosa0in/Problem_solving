{
 "cells": [
  {
   "cell_type": "markdown",
   "metadata": {},
   "source": [
    "001"
   ]
  },
  {
   "cell_type": "markdown",
   "metadata": {},
   "source": [
    "Here is a sample line of code that can be executed in Python:\n",
    "\n",
    "print(\"Hello, World!\")\n",
    "You can just as easily store a string as a variable and then print it to stdout:\n",
    "\n",
    "my_string = \"Hello, World!\"\n",
    "print(my_string)\n",
    "The above code will print Hello, World! on your screen. Try it yourself in the editor below!\n",
    "\n",
    "Input Format\n",
    "\n",
    "You do not need to read any input in this challenge.\n",
    "\n",
    "Output Format\n",
    "\n",
    "Print Hello, World! to stdout.\n",
    "\n",
    "Sample Output 0\n",
    "\n",
    "Hello, World!"
   ]
  },
  {
   "cell_type": "code",
   "execution_count": 7,
   "metadata": {},
   "outputs": [
    {
     "name": "stdout",
     "output_type": "stream",
     "text": [
      "Hello Worlي!\n"
     ]
    }
   ],
   "source": [
    "print('Hello Worlي!')"
   ]
  },
  {
   "cell_type": "markdown",
   "metadata": {},
   "source": [
    "002"
   ]
  },
  {
   "cell_type": "markdown",
   "metadata": {},
   "source": [
    " Task  \n",
    " Given an integer n, perform the following conditional actions:  \n",
    " - If n is odd, print \"Weird\"  \n",
    " - If n is even and in the inclusive range of 2 to 5, print \"Not Weird\"  \n",
    " - If n is even and in the inclusive range of 6 to 20, print \"Weird\"  \n",
    " - If n is even and greater than 20, print \"Not Weird\"  \n",
    "\n",
    " Input Format  \n",
    " A single line containing a positive integer n.  \n",
    "\n",
    " Output Format  \n",
    " Print \"Weird\" if the number is weird. Otherwise, print \"Not Weird\".  \n",
    "\n",
    " Example Explanation  \n",
    " - If n = 3, it is odd and odd numbers are weird, so print \"Weird\".  \n",
    " - If n = 24, it is even and greater than 20, so print \"Not Weird\"."
   ]
  },
  {
   "cell_type": "code",
   "execution_count": 17,
   "metadata": {},
   "outputs": [
    {
     "name": "stdout",
     "output_type": "stream",
     "text": [
      "Weird\n"
     ]
    }
   ],
   "source": [
    "n = int(input().strip())\n",
    "if(n%2 != 0):\n",
    " print('Weird')\n",
    "elif (n%2 == 0) and (5>=n>=2):\n",
    " print('Not Weird')\n",
    "elif (n%2 == 0) and  (20>=n>=6):\n",
    " print ('weird')\n",
    "elif (n%2 == 0) and  (n>20):\n",
    " print('Not Weird')"
   ]
  }
 ],
 "metadata": {
  "kernelspec": {
   "display_name": "Python 3",
   "language": "python",
   "name": "python3"
  },
  "language_info": {
   "codemirror_mode": {
    "name": "ipython",
    "version": 3
   },
   "file_extension": ".py",
   "mimetype": "text/x-python",
   "name": "python",
   "nbconvert_exporter": "python",
   "pygments_lexer": "ipython3",
   "version": "3.12.4"
  }
 },
 "nbformat": 4,
 "nbformat_minor": 2
}
